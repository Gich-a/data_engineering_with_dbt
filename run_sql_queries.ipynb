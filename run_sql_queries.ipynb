{
 "cells": [
  {
   "cell_type": "code",
   "execution_count": 13,
   "id": "c04f427f",
   "metadata": {},
   "outputs": [],
   "source": [
    "import duckdb\n",
    "import pandas as pd"
   ]
  },
  {
   "cell_type": "code",
   "execution_count": 14,
   "metadata": {},
   "outputs": [
    {
     "data": {
      "application/vnd.microsoft.datawrangler.viewer.v0+json": {
       "columns": [
        {
         "name": "index",
         "rawType": "int64",
         "type": "integer"
        },
        {
         "name": "name",
         "rawType": "object",
         "type": "string"
        }
       ],
       "ref": "a5550341-7d60-477f-9f5a-b14fc4191e4e",
       "rows": [
        [
         "0",
         "parking_violation_codes"
        ],
        [
         "1",
         "parking_violations_2024"
        ]
       ],
       "shape": {
        "columns": 1,
        "rows": 2
       }
      },
      "text/html": [
       "<div>\n",
       "<style scoped>\n",
       "    .dataframe tbody tr th:only-of-type {\n",
       "        vertical-align: middle;\n",
       "    }\n",
       "\n",
       "    .dataframe tbody tr th {\n",
       "        vertical-align: top;\n",
       "    }\n",
       "\n",
       "    .dataframe thead th {\n",
       "        text-align: right;\n",
       "    }\n",
       "</style>\n",
       "<table border=\"1\" class=\"dataframe\">\n",
       "  <thead>\n",
       "    <tr style=\"text-align: right;\">\n",
       "      <th></th>\n",
       "      <th>name</th>\n",
       "    </tr>\n",
       "  </thead>\n",
       "  <tbody>\n",
       "    <tr>\n",
       "      <th>0</th>\n",
       "      <td>parking_violation_codes</td>\n",
       "    </tr>\n",
       "    <tr>\n",
       "      <th>1</th>\n",
       "      <td>parking_violations_2024</td>\n",
       "    </tr>\n",
       "  </tbody>\n",
       "</table>\n",
       "</div>"
      ],
      "text/plain": [
       "                      name\n",
       "0  parking_violation_codes\n",
       "1  parking_violations_2024"
      ]
     },
     "metadata": {},
     "output_type": "display_data"
    }
   ],
   "source": [
    "sql_query =''' \n",
    "show tables \n",
    "'''\n",
    "\n",
    "with duckdb.connect('data/nyc_parking_violations.db') as con:\n",
    "    display(con.sql(sql_query).df())\n"
   ]
  },
  {
   "cell_type": "code",
   "execution_count": 15,
   "id": "67d0cf50",
   "metadata": {},
   "outputs": [
    {
     "data": {
      "application/vnd.microsoft.datawrangler.viewer.v0+json": {
       "columns": [
        {
         "name": "index",
         "rawType": "int64",
         "type": "integer"
        },
        {
         "name": "summons_number",
         "rawType": "int64",
         "type": "integer"
        },
        {
         "name": "plate_id",
         "rawType": "object",
         "type": "string"
        },
        {
         "name": "registration_state",
         "rawType": "object",
         "type": "string"
        },
        {
         "name": "plate_type",
         "rawType": "object",
         "type": "string"
        },
        {
         "name": "issue_date",
         "rawType": "datetime64[us]",
         "type": "unknown"
        },
        {
         "name": "violation_code",
         "rawType": "int64",
         "type": "integer"
        },
        {
         "name": "vehicle_body_type",
         "rawType": "object",
         "type": "string"
        },
        {
         "name": "vehicle_make",
         "rawType": "object",
         "type": "string"
        },
        {
         "name": "issuing_agency",
         "rawType": "object",
         "type": "string"
        },
        {
         "name": "street_code1",
         "rawType": "int64",
         "type": "integer"
        },
        {
         "name": "street_code2",
         "rawType": "int64",
         "type": "integer"
        },
        {
         "name": "street_code3",
         "rawType": "int64",
         "type": "integer"
        },
        {
         "name": "vehicle_expiration_date",
         "rawType": "float64",
         "type": "float"
        },
        {
         "name": "violation_location",
         "rawType": "object",
         "type": "string"
        },
        {
         "name": "violation_precinct",
         "rawType": "int64",
         "type": "integer"
        },
        {
         "name": "issuer_precinct",
         "rawType": "int64",
         "type": "integer"
        },
        {
         "name": "issuer_code",
         "rawType": "int64",
         "type": "integer"
        },
        {
         "name": "issuer_command",
         "rawType": "object",
         "type": "string"
        },
        {
         "name": "issuer_squad",
         "rawType": "object",
         "type": "string"
        },
        {
         "name": "violation_time",
         "rawType": "object",
         "type": "string"
        },
        {
         "name": "violation_county",
         "rawType": "object",
         "type": "unknown"
        },
        {
         "name": "street_name",
         "rawType": "object",
         "type": "string"
        },
        {
         "name": "intersecting_street",
         "rawType": "object",
         "type": "unknown"
        },
        {
         "name": "date_first_observed",
         "rawType": "int64",
         "type": "integer"
        },
        {
         "name": "law_section",
         "rawType": "int64",
         "type": "integer"
        },
        {
         "name": "sub_division",
         "rawType": "object",
         "type": "string"
        },
        {
         "name": "days_parking_in_effect",
         "rawType": "object",
         "type": "string"
        },
        {
         "name": "from_hours_in_effect",
         "rawType": "object",
         "type": "string"
        },
        {
         "name": "to_hours_in_effect",
         "rawType": "object",
         "type": "string"
        },
        {
         "name": "vehicle_color",
         "rawType": "object",
         "type": "string"
        },
        {
         "name": "unregistered_vehicle",
         "rawType": "int64",
         "type": "integer"
        },
        {
         "name": "vehicle_year",
         "rawType": "int64",
         "type": "integer"
        },
        {
         "name": "meter_number",
         "rawType": "object",
         "type": "string"
        },
        {
         "name": "feet_from_curb",
         "rawType": "int64",
         "type": "integer"
        },
        {
         "name": "violation_in_front_of_or_opposite",
         "rawType": "object",
         "type": "unknown"
        },
        {
         "name": "house_number",
         "rawType": "object",
         "type": "unknown"
        },
        {
         "name": "time_first_observed",
         "rawType": "object",
         "type": "unknown"
        },
        {
         "name": "violation_description",
         "rawType": "object",
         "type": "unknown"
        },
        {
         "name": "violation_legal_code",
         "rawType": "boolean",
         "type": "boolean"
        }
       ],
       "ref": "92257681-77f4-435e-840a-f79edb7524fd",
       "rows": [
        [
         "0",
         "1159637337",
         "KZH2758",
         "NY",
         "PAS",
         "2023-06-09 00:00:00",
         "67",
         "VAN",
         "HONDA",
         "P",
         "0",
         "0",
         "0",
         "20250201.0",
         "0043",
         "43",
         "43",
         "972773",
         "0043",
         "0000",
         "0911A",
         "BX",
         "I/O TAYLOR AVE",
         "GUERLAIN",
         "0",
         "408",
         "E5",
         "BBBBBBB",
         "ALL",
         "ALL",
         "BLUE",
         "0",
         "2006",
         "-",
         "0",
         null,
         null,
         null,
         null,
         null
        ],
        [
         "1",
         "1252960645",
         "JPD8746",
         "NY",
         "PAS",
         "2023-06-30 00:00:00",
         "87",
         "SUBN",
         "LINCO",
         "M",
         "17870",
         "25390",
         "32670",
         "20240210.0",
         "0014",
         "14",
         "968",
         "271057",
         "0968",
         "0000",
         "0717A",
         "NY",
         "E 44TH ST",
         null,
         "0",
         "408",
         "D",
         "BBBBBBB",
         "ALL",
         "ALL",
         "GRAY",
         "0",
         "2020",
         "-",
         "0",
         "O",
         "51",
         null,
         null,
         null
        ],
        [
         "2",
         "1252960669",
         "JPD8746",
         "NY",
         "PAS",
         "2023-06-30 00:00:00",
         "31",
         "SUBN",
         "LINCO",
         "M",
         "17870",
         "25390",
         "32670",
         "20240210.0",
         "0014",
         "14",
         "968",
         "271057",
         "0968",
         "0000",
         "0823A",
         null,
         "E 44TH STREET",
         null,
         "0",
         "408",
         "O3",
         "BBBBBBB",
         "ALL",
         "ALL",
         "GRAY",
         "0",
         "2020",
         "-",
         "0",
         "O",
         "51",
         null,
         null,
         null
        ],
        [
         "3",
         "1252994126",
         "MBH9245",
         "99",
         "PAS",
         "2023-07-06 00:00:00",
         "20",
         "SDN",
         "KIA",
         "M",
         "12690",
         "41700",
         "61090",
         "20231231.0",
         "108",
         "108",
         "968",
         "272834",
         "0968",
         "0000",
         "1150P",
         null,
         "60TH ST",
         null,
         "0",
         "408",
         "D",
         "BBBBBBB",
         "ALL",
         "ALL",
         "WHITE",
         "0",
         "0",
         "-",
         "0",
         "F",
         "39-41",
         null,
         null,
         null
        ],
        [
         "4",
         "1252994175",
         "MBH9245",
         "PA",
         "PAS",
         "2023-07-08 00:00:00",
         "40",
         "SDN",
         "KIA",
         "M",
         "12690",
         "41700",
         "61090",
         "20231231.0",
         "108",
         "108",
         "968",
         "272834",
         "0968",
         "0000",
         "1150P",
         "Q",
         "60TH ST",
         null,
         "0",
         "408",
         "D",
         "BBBBBBB",
         "ALL",
         "ALL",
         "WHITE",
         "0",
         "0",
         "-",
         "0",
         "F",
         "39-41",
         null,
         null,
         null
        ]
       ],
       "shape": {
        "columns": 39,
        "rows": 5
       }
      },
      "text/html": [
       "<div>\n",
       "<style scoped>\n",
       "    .dataframe tbody tr th:only-of-type {\n",
       "        vertical-align: middle;\n",
       "    }\n",
       "\n",
       "    .dataframe tbody tr th {\n",
       "        vertical-align: top;\n",
       "    }\n",
       "\n",
       "    .dataframe thead th {\n",
       "        text-align: right;\n",
       "    }\n",
       "</style>\n",
       "<table border=\"1\" class=\"dataframe\">\n",
       "  <thead>\n",
       "    <tr style=\"text-align: right;\">\n",
       "      <th></th>\n",
       "      <th>summons_number</th>\n",
       "      <th>plate_id</th>\n",
       "      <th>registration_state</th>\n",
       "      <th>plate_type</th>\n",
       "      <th>issue_date</th>\n",
       "      <th>violation_code</th>\n",
       "      <th>vehicle_body_type</th>\n",
       "      <th>vehicle_make</th>\n",
       "      <th>issuing_agency</th>\n",
       "      <th>street_code1</th>\n",
       "      <th>...</th>\n",
       "      <th>vehicle_color</th>\n",
       "      <th>unregistered_vehicle</th>\n",
       "      <th>vehicle_year</th>\n",
       "      <th>meter_number</th>\n",
       "      <th>feet_from_curb</th>\n",
       "      <th>violation_in_front_of_or_opposite</th>\n",
       "      <th>house_number</th>\n",
       "      <th>time_first_observed</th>\n",
       "      <th>violation_description</th>\n",
       "      <th>violation_legal_code</th>\n",
       "    </tr>\n",
       "  </thead>\n",
       "  <tbody>\n",
       "    <tr>\n",
       "      <th>0</th>\n",
       "      <td>1159637337</td>\n",
       "      <td>KZH2758</td>\n",
       "      <td>NY</td>\n",
       "      <td>PAS</td>\n",
       "      <td>2023-06-09</td>\n",
       "      <td>67</td>\n",
       "      <td>VAN</td>\n",
       "      <td>HONDA</td>\n",
       "      <td>P</td>\n",
       "      <td>0</td>\n",
       "      <td>...</td>\n",
       "      <td>BLUE</td>\n",
       "      <td>0</td>\n",
       "      <td>2006</td>\n",
       "      <td>-</td>\n",
       "      <td>0</td>\n",
       "      <td>None</td>\n",
       "      <td>None</td>\n",
       "      <td>None</td>\n",
       "      <td>None</td>\n",
       "      <td>&lt;NA&gt;</td>\n",
       "    </tr>\n",
       "    <tr>\n",
       "      <th>1</th>\n",
       "      <td>1252960645</td>\n",
       "      <td>JPD8746</td>\n",
       "      <td>NY</td>\n",
       "      <td>PAS</td>\n",
       "      <td>2023-06-30</td>\n",
       "      <td>87</td>\n",
       "      <td>SUBN</td>\n",
       "      <td>LINCO</td>\n",
       "      <td>M</td>\n",
       "      <td>17870</td>\n",
       "      <td>...</td>\n",
       "      <td>GRAY</td>\n",
       "      <td>0</td>\n",
       "      <td>2020</td>\n",
       "      <td>-</td>\n",
       "      <td>0</td>\n",
       "      <td>O</td>\n",
       "      <td>51</td>\n",
       "      <td>None</td>\n",
       "      <td>None</td>\n",
       "      <td>&lt;NA&gt;</td>\n",
       "    </tr>\n",
       "    <tr>\n",
       "      <th>2</th>\n",
       "      <td>1252960669</td>\n",
       "      <td>JPD8746</td>\n",
       "      <td>NY</td>\n",
       "      <td>PAS</td>\n",
       "      <td>2023-06-30</td>\n",
       "      <td>31</td>\n",
       "      <td>SUBN</td>\n",
       "      <td>LINCO</td>\n",
       "      <td>M</td>\n",
       "      <td>17870</td>\n",
       "      <td>...</td>\n",
       "      <td>GRAY</td>\n",
       "      <td>0</td>\n",
       "      <td>2020</td>\n",
       "      <td>-</td>\n",
       "      <td>0</td>\n",
       "      <td>O</td>\n",
       "      <td>51</td>\n",
       "      <td>None</td>\n",
       "      <td>None</td>\n",
       "      <td>&lt;NA&gt;</td>\n",
       "    </tr>\n",
       "    <tr>\n",
       "      <th>3</th>\n",
       "      <td>1252994126</td>\n",
       "      <td>MBH9245</td>\n",
       "      <td>99</td>\n",
       "      <td>PAS</td>\n",
       "      <td>2023-07-06</td>\n",
       "      <td>20</td>\n",
       "      <td>SDN</td>\n",
       "      <td>KIA</td>\n",
       "      <td>M</td>\n",
       "      <td>12690</td>\n",
       "      <td>...</td>\n",
       "      <td>WHITE</td>\n",
       "      <td>0</td>\n",
       "      <td>0</td>\n",
       "      <td>-</td>\n",
       "      <td>0</td>\n",
       "      <td>F</td>\n",
       "      <td>39-41</td>\n",
       "      <td>None</td>\n",
       "      <td>None</td>\n",
       "      <td>&lt;NA&gt;</td>\n",
       "    </tr>\n",
       "    <tr>\n",
       "      <th>4</th>\n",
       "      <td>1252994175</td>\n",
       "      <td>MBH9245</td>\n",
       "      <td>PA</td>\n",
       "      <td>PAS</td>\n",
       "      <td>2023-07-08</td>\n",
       "      <td>40</td>\n",
       "      <td>SDN</td>\n",
       "      <td>KIA</td>\n",
       "      <td>M</td>\n",
       "      <td>12690</td>\n",
       "      <td>...</td>\n",
       "      <td>WHITE</td>\n",
       "      <td>0</td>\n",
       "      <td>0</td>\n",
       "      <td>-</td>\n",
       "      <td>0</td>\n",
       "      <td>F</td>\n",
       "      <td>39-41</td>\n",
       "      <td>None</td>\n",
       "      <td>None</td>\n",
       "      <td>&lt;NA&gt;</td>\n",
       "    </tr>\n",
       "  </tbody>\n",
       "</table>\n",
       "<p>5 rows × 39 columns</p>\n",
       "</div>"
      ],
      "text/plain": [
       "   summons_number plate_id registration_state plate_type issue_date  \\\n",
       "0      1159637337  KZH2758                 NY        PAS 2023-06-09   \n",
       "1      1252960645  JPD8746                 NY        PAS 2023-06-30   \n",
       "2      1252960669  JPD8746                 NY        PAS 2023-06-30   \n",
       "3      1252994126  MBH9245                 99        PAS 2023-07-06   \n",
       "4      1252994175  MBH9245                 PA        PAS 2023-07-08   \n",
       "\n",
       "   violation_code vehicle_body_type vehicle_make issuing_agency  street_code1  \\\n",
       "0              67               VAN        HONDA              P             0   \n",
       "1              87              SUBN        LINCO              M         17870   \n",
       "2              31              SUBN        LINCO              M         17870   \n",
       "3              20               SDN          KIA              M         12690   \n",
       "4              40               SDN          KIA              M         12690   \n",
       "\n",
       "   ...  vehicle_color  unregistered_vehicle  vehicle_year meter_number  \\\n",
       "0  ...           BLUE                     0          2006            -   \n",
       "1  ...           GRAY                     0          2020            -   \n",
       "2  ...           GRAY                     0          2020            -   \n",
       "3  ...          WHITE                     0             0            -   \n",
       "4  ...          WHITE                     0             0            -   \n",
       "\n",
       "   feet_from_curb  violation_in_front_of_or_opposite  house_number  \\\n",
       "0               0                               None          None   \n",
       "1               0                                  O            51   \n",
       "2               0                                  O            51   \n",
       "3               0                                  F         39-41   \n",
       "4               0                                  F         39-41   \n",
       "\n",
       "  time_first_observed violation_description violation_legal_code  \n",
       "0                None                  None                 <NA>  \n",
       "1                None                  None                 <NA>  \n",
       "2                None                  None                 <NA>  \n",
       "3                None                  None                 <NA>  \n",
       "4                None                  None                 <NA>  \n",
       "\n",
       "[5 rows x 39 columns]"
      ]
     },
     "metadata": {},
     "output_type": "display_data"
    },
    {
     "data": {
      "application/vnd.microsoft.datawrangler.viewer.v0+json": {
       "columns": [
        {
         "name": "index",
         "rawType": "int64",
         "type": "integer"
        },
        {
         "name": "violation_code",
         "rawType": "int64",
         "type": "integer"
        },
        {
         "name": "violation_description",
         "rawType": "object",
         "type": "string"
        },
        {
         "name": "manhattan_96th_st_below_fine_amount",
         "rawType": "int64",
         "type": "integer"
        },
        {
         "name": "all_other_areas_fine_amount",
         "rawType": "int64",
         "type": "integer"
        }
       ],
       "ref": "6c9755bc-f8e8-431f-8e04-2c1acdd9f5ef",
       "rows": [
        [
         "0",
         "1",
         "FAILURE TO DISPLAY BUS PERMIT",
         "515",
         "515"
        ],
        [
         "1",
         "2",
         "NO OPERATOR NAM/ADD/PH DISPLAY",
         "515",
         "515"
        ],
        [
         "2",
         "3",
         "UNAUTHORIZED PASSENGER PICK-UP",
         "515",
         "515"
        ],
        [
         "3",
         "4",
         "BUS PARKING IN LOWER MANHATTAN",
         "115",
         "115"
        ],
        [
         "4",
         "5",
         "BUS LANE VIOLATION",
         "50",
         "50"
        ]
       ],
       "shape": {
        "columns": 4,
        "rows": 5
       }
      },
      "text/html": [
       "<div>\n",
       "<style scoped>\n",
       "    .dataframe tbody tr th:only-of-type {\n",
       "        vertical-align: middle;\n",
       "    }\n",
       "\n",
       "    .dataframe tbody tr th {\n",
       "        vertical-align: top;\n",
       "    }\n",
       "\n",
       "    .dataframe thead th {\n",
       "        text-align: right;\n",
       "    }\n",
       "</style>\n",
       "<table border=\"1\" class=\"dataframe\">\n",
       "  <thead>\n",
       "    <tr style=\"text-align: right;\">\n",
       "      <th></th>\n",
       "      <th>violation_code</th>\n",
       "      <th>violation_description</th>\n",
       "      <th>manhattan_96th_st_below_fine_amount</th>\n",
       "      <th>all_other_areas_fine_amount</th>\n",
       "    </tr>\n",
       "  </thead>\n",
       "  <tbody>\n",
       "    <tr>\n",
       "      <th>0</th>\n",
       "      <td>1</td>\n",
       "      <td>FAILURE TO DISPLAY BUS PERMIT</td>\n",
       "      <td>515</td>\n",
       "      <td>515</td>\n",
       "    </tr>\n",
       "    <tr>\n",
       "      <th>1</th>\n",
       "      <td>2</td>\n",
       "      <td>NO OPERATOR NAM/ADD/PH DISPLAY</td>\n",
       "      <td>515</td>\n",
       "      <td>515</td>\n",
       "    </tr>\n",
       "    <tr>\n",
       "      <th>2</th>\n",
       "      <td>3</td>\n",
       "      <td>UNAUTHORIZED PASSENGER PICK-UP</td>\n",
       "      <td>515</td>\n",
       "      <td>515</td>\n",
       "    </tr>\n",
       "    <tr>\n",
       "      <th>3</th>\n",
       "      <td>4</td>\n",
       "      <td>BUS PARKING IN LOWER MANHATTAN</td>\n",
       "      <td>115</td>\n",
       "      <td>115</td>\n",
       "    </tr>\n",
       "    <tr>\n",
       "      <th>4</th>\n",
       "      <td>5</td>\n",
       "      <td>BUS LANE VIOLATION</td>\n",
       "      <td>50</td>\n",
       "      <td>50</td>\n",
       "    </tr>\n",
       "  </tbody>\n",
       "</table>\n",
       "</div>"
      ],
      "text/plain": [
       "   violation_code           violation_description  \\\n",
       "0               1   FAILURE TO DISPLAY BUS PERMIT   \n",
       "1               2  NO OPERATOR NAM/ADD/PH DISPLAY   \n",
       "2               3  UNAUTHORIZED PASSENGER PICK-UP   \n",
       "3               4  BUS PARKING IN LOWER MANHATTAN   \n",
       "4               5              BUS LANE VIOLATION   \n",
       "\n",
       "   manhattan_96th_st_below_fine_amount  all_other_areas_fine_amount  \n",
       "0                                  515                          515  \n",
       "1                                  515                          515  \n",
       "2                                  515                          515  \n",
       "3                                  115                          115  \n",
       "4                                   50                           50  "
      ]
     },
     "metadata": {},
     "output_type": "display_data"
    }
   ],
   "source": [
    "sql_query_import_1 ='''\n",
    "create or replace table parking_violation_codes as\n",
    "select * from read_csv_auto('data/parking_violation_codes.csv',\n",
    "normalize_names=true,\n",
    "delim=',',\n",
    "quote='\"',\n",
    "escape='\"')\n",
    "'''\n",
    "\n",
    "sql_query_import_2 ='''\n",
    "create or replace table parking_violations_2024 as\n",
    "select * from read_csv_auto('data/all_records.csv',\n",
    "normalize_names=true,\n",
    "delim=',',\n",
    "quote='\"',\n",
    "escape='\"')\n",
    "'''   \n",
    "\n",
    "with duckdb.connect('data/nyc_parking_violations.db') as con:\n",
    "    con.sql(sql_query_import_1)\n",
    "    con.sql(sql_query_import_2)\n",
    "    \n",
    "    display(con.sql('select * from parking_violations_2024 limit 5').df())  \n",
    "    display(con.sql('select * from parking_violation_codes limit 5').df())"
   ]
  },
  {
   "cell_type": "code",
   "execution_count": null,
   "id": "8fdfc7ac",
   "metadata": {},
   "outputs": [],
   "source": []
  }
 ],
 "metadata": {
  "kernelspec": {
   "display_name": "Python 3",
   "language": "python",
   "name": "python3"
  },
  "language_info": {
   "codemirror_mode": {
    "name": "ipython",
    "version": 3
   },
   "file_extension": ".py",
   "mimetype": "text/x-python",
   "name": "python",
   "nbconvert_exporter": "python",
   "pygments_lexer": "ipython3",
   "version": "3.13.5"
  }
 },
 "nbformat": 4,
 "nbformat_minor": 5
}
